{
  "cells": [
    {
      "cell_type": "markdown",
      "metadata": {
        "id": "view-in-github",
        "colab_type": "text"
      },
      "source": [
        "<a href=\"https://colab.research.google.com/github/gerardPlanella/path_explain/blob/master/torch_explain.ipynb\" target=\"_parent\"><img src=\"https://colab.research.google.com/assets/colab-badge.svg\" alt=\"Open In Colab\"/></a>"
      ]
    },
    {
      "cell_type": "markdown",
      "metadata": {
        "id": "46VsUAKQRw2F"
      },
      "source": [
        "# Torch"
      ]
    },
    {
      "cell_type": "code",
      "execution_count": null,
      "metadata": {
        "id": "Ct4LiE5DRw2H",
        "outputId": "d83599f5-48f9-41a2-8b06-4aeb8670f44d"
      },
      "outputs": [
        {
          "name": "stdout",
          "output_type": "stream",
          "text": [
            "logit -6.8292555809021\n",
            "attributions [0.7264259 3.1599007]\n",
            "sum 3.886326551437378\n",
            "diff 4.461550235748291\n"
          ]
        },
        {
          "data": {
            "image/png": "[encoded data removed]",
            "text/plain": [
              "<Figure size 7.2x7.2 with 1 Axes>"
            ]
          },
          "metadata": {
            "needs_background": "light"
          },
          "output_type": "display_data"
        }
      ],
      "source": [
        "import torch\n",
        "from transformers import AutoModelForCausalLM, AutoTokenizer\n",
        "from path_explain import PathExplainerTorch, text_plot\n",
        "\n",
        "# model = AutoModelForCausalLM.from_pretrained(\"distilgpt2\")\n",
        "# tokenizer = AutoTokenizer.from_pretrained(\"distilgpt2\")\n",
        "\n",
        "\n",
        "def embedding_model(batch_ids):\n",
        "    batch_embedding = model.transformer.wte.weight[[batch_ids]]\n",
        "    return batch_embedding\n",
        "\n",
        "\n",
        "def prediction_model(batch_embedding):\n",
        "    if batch_embedding.ndim == 2:\n",
        "        batch_embedding = batch_embedding.unsqueeze(0)\n",
        "    logits = model(inputs_embeds=batch_embedding).logits[:, -1]\n",
        "    probs = torch.log_softmax(logits, dim=-1)\n",
        "\n",
        "    return probs\n",
        "\n",
        "\n",
        "# sen = \"The nurse lost her keys , because\"\n",
        "sen = \"The man\"\n",
        "out = \"walks\"\n",
        "\n",
        "batch_input = tokenizer([sen])\n",
        "batch_ids = batch_input['input_ids']\n",
        "batch_embedding = embedding_model(batch_ids)\n",
        "\n",
        "baseline_embedding = torch.zeros_like(batch_embedding)\n",
        "\n",
        "output_idx = torch.tensor([tokenizer.convert_tokens_to_ids(f\"Ġ{out}\")])\n",
        "\n",
        "explainer = PathExplainerTorch(prediction_model)\n",
        "attributions = explainer.attributions(\n",
        "    batch_embedding,\n",
        "    baseline_embedding,\n",
        "    output_indices=output_idx,\n",
        "    num_samples=9,\n",
        "    use_expectation=False,\n",
        ")\n",
        "\n",
        "sum_attr = attributions.squeeze().detach().numpy().sum(-1)\n",
        "\n",
        "logit = prediction_model(batch_embedding)[0, output_idx].item()\n",
        "baseline_output = prediction_model(baseline_embedding)[0, output_idx].item()\n",
        "\n",
        "print(\"logit\", logit)\n",
        "print(\"attributions\", sum_attr)\n",
        "print(\"sum\", sum(sum_attr))\n",
        "print(\"diff\", logit - baseline_output)\n",
        "\n",
        "text_plot(\n",
        "    sen.split(),\n",
        "    sum_attr,\n",
        ")\n",
        "\n",
        "\n",
        "# The nurse lost his keys , because\n",
        "\n",
        "# she: -1.76\n",
        "# attributions [-0.13357379  1.862026    1.1488299   0.6746906   0.2510032   0.14159869\n",
        "#   2.2729697 ]\n",
        "# sum 6.217544347047806\n",
        "# diff 7.994036674499512\n",
        "\n",
        "# he: -1.27\n",
        "# attributions [-0.76138175 -0.5459689   0.43218994  1.1869467  -0.29129577  0.56348467\n",
        "#   3.0858443 ]\n",
        "# sum 3.6698192358016968\n",
        "# diff 4.965544700622559\n",
        "\n",
        "# her -> she: -0.862424910068512\n",
        "# her -> he:  -3.92"
      ]
    },
    {
      "cell_type": "code",
      "execution_count": null,
      "metadata": {
        "scrolled": true,
        "id": "0isg-9DLRw2L",
        "outputId": "efa7a5b9-5b68-431f-bf78-62dc63273e70"
      },
      "outputs": [
        {
          "name": "stdout",
          "output_type": "stream",
          "text": [
            "logit -6.109158515930176\n",
            "attributions [ 0.45731561 -0.96552182  0.5571199   0.45466255  1.09111517  1.50664718]\n",
            "sum 3.101338578397854\n",
            "diff -0.023603247468845012\n"
          ]
        }
      ],
      "source": [
        "# !/usr/bin/env python\n",
        "import functools\n",
        "import operator\n",
        "import torch\n",
        "from torch.autograd import grad\n",
        "import numpy as np\n",
        "import random\n",
        "from tqdm import *\n",
        "\n",
        "import sys\n",
        "\n",
        "sys.path.append(\"../..\")\n",
        "sys.path.append(\"../path_explain/\")\n",
        "\n",
        "from diagnnose.models import import_model\n",
        "from transformers import AutoModelForCausalLM, AutoTokenizer\n",
        "from path_explain import text_plot\n",
        "\n",
        "\n",
        "def gather_nd(params, indices):\n",
        "    \"\"\"\n",
        "    Args:\n",
        "        params: Tensor to index\n",
        "        indices: k-dimension tensor of integers.\n",
        "    Returns:\n",
        "        output: 1-dimensional tensor of elements of ``params``, where\n",
        "            output[i] = params[i][indices[i]]\n",
        "\n",
        "            params   indices   output\n",
        "\n",
        "            1 2       1 1       4\n",
        "            3 4       2 0 ----> 5\n",
        "            5 6       0 0       1\n",
        "    \"\"\"\n",
        "    max_value = functools.reduce(operator.mul, list(params.size())) - 1\n",
        "    indices = indices.t().long()\n",
        "    ndim = indices.size(0)\n",
        "    idx = torch.zeros_like(indices[0]).long()\n",
        "    m = 1\n",
        "\n",
        "    for i in range(ndim)[::-1]:\n",
        "        idx += indices[i] * m\n",
        "        m *= params.size(i)\n",
        "\n",
        "    idx[idx < 0] = 0\n",
        "    idx[idx > max_value] = 0\n",
        "    return torch.take(params, idx)\n",
        "\n",
        "\n",
        "class PathExplainerTorch(object):\n",
        "    def __init__(self, model):\n",
        "        self.model = model\n",
        "        return\n",
        "\n",
        "    def _get_ref_tensor(self, baseline, batch_size, num_samples):\n",
        "        number_to_draw = num_samples * batch_size\n",
        "        replace = baseline.shape[0] < number_to_draw\n",
        "        sample_indices = np.random.choice(\n",
        "            baseline.shape[0], size=number_to_draw, replace=replace\n",
        "        )\n",
        "        ref_tensor = baseline[sample_indices, :]\n",
        "\n",
        "        return ref_tensor\n",
        "\n",
        "    def _get_samples_delta(self, input_tensor, reference_tensor):\n",
        "        input_expand_mult = input_tensor.unsqueeze(1)\n",
        "        sd = input_expand_mult - reference_tensor\n",
        "        return sd\n",
        "\n",
        "    def _get_grads(self, samples_input, output_indices=None):\n",
        "\n",
        "        grad_tensor = torch.zeros(samples_input.shape).float().to(samples_input.device)\n",
        "\n",
        "        k_ = samples_input.shape[1]\n",
        "\n",
        "        for i in range(k_):\n",
        "            particular_slice = samples_input[:, i]\n",
        "            batch_output = self.model(particular_slice)\n",
        "            # should check that users pass in sparse labels\n",
        "            # Only look at the user-specified label\n",
        "            if batch_output.size(1) > 1:\n",
        "                sample_indices = torch.arange(0, batch_output.size(0)).to(\n",
        "                    samples_input.device\n",
        "                )\n",
        "                indices_tensor = torch.cat(\n",
        "                    [sample_indices.unsqueeze(1), output_indices.unsqueeze(1)], dim=1\n",
        "                )\n",
        "                batch_output = gather_nd(batch_output, indices_tensor)\n",
        "\n",
        "            model_grads = grad(\n",
        "                outputs=batch_output,\n",
        "                inputs=particular_slice,\n",
        "                grad_outputs=torch.ones_like(batch_output).to(samples_input.device),\n",
        "                create_graph=True,\n",
        "            )\n",
        "            grad_tensor[:, i, :] = model_grads[0]\n",
        "        return grad_tensor\n",
        "\n",
        "    def attributions(\n",
        "        self,\n",
        "        input_tensor,\n",
        "        baseline,\n",
        "        num_samples=50,\n",
        "        use_expectation=True,\n",
        "        output_indices=None,\n",
        "        uniform_interpolate=False,\n",
        "        gauss_legendre=False,\n",
        "    ):\n",
        "        \"\"\"\n",
        "        Calculate either Expected or Integrated Gradients approximation of\n",
        "        Aumann-Shapley values for the sample ``input_tensor``.\n",
        "\n",
        "        Args:\n",
        "            model (torch.nn.Module): Pytorch neural network model for which the\n",
        "                output should be explained.\n",
        "            input_tensor (torch.Tensor): Pytorch tensor representing the input\n",
        "                to be explained.\n",
        "            baseline (torch.Tensor): Pytorch tensor representing the baseline.\n",
        "                If use_expectation is true, then baseline should be shape\n",
        "                (num_refs, ...) where ... indicates the dimensionality\n",
        "                of the input. Otherwise, baseline should be shape (1, ...).\n",
        "            output_indices (optional, default=None): For multi-class prediction\n",
        "        \"\"\"\n",
        "        equal_dims = baseline.shape[1:] == input_tensor.shape[1:]\n",
        "        almost_equal_dims = baseline.shape == input_tensor.shape[1:]\n",
        "\n",
        "        dev = input_tensor.device\n",
        "        baseline = baseline.to(dev)\n",
        "\n",
        "        if not input_tensor.requires_grad:\n",
        "            input_tensor.requires_grad = True\n",
        "\n",
        "        if use_expectation and not equal_dims:\n",
        "            raise ValueError(\n",
        "                \"baseline should be shape (num_refs, ...) \\\n",
        "                              where ... indicates the dimensionality   \\\n",
        "                              of the input\"\n",
        "            )\n",
        "\n",
        "        if not use_expectation and baseline.shape[0] != 1:\n",
        "            if almost_equal_dims:\n",
        "                baseline = baseline.unsqueeze(0)\n",
        "            else:\n",
        "                raise ValueError(\n",
        "                    \"baseline should be shape (...)           \\\n",
        "                                  where ... indicates the dimensionality   \\\n",
        "                                  of the input\"\n",
        "                )\n",
        "\n",
        "        samples_input, samples_delta, weights = self._get_samples_input(\n",
        "            input_tensor,\n",
        "            baseline,\n",
        "            num_samples,\n",
        "            use_expectation,\n",
        "            uniform_interpolate,\n",
        "            gauss_legendre,\n",
        "        )\n",
        "\n",
        "        grad_tensor = self._get_grads(samples_input, output_indices)\n",
        "        mult_grads = samples_delta * grad_tensor\n",
        "\n",
        "        # Weighted average over the interpolation dimension (1)\n",
        "        # weights: (1, num_samples, 1, 1) (gauss_legendre weights)\n",
        "        # mult_grads: (bsz, num_samples, sen_len, nhid)\n",
        "        attributions = (mult_grads * weights).sum(1)\n",
        "\n",
        "        return attributions\n",
        "\n",
        "    def interactions(\n",
        "        self,\n",
        "        input_tensor,\n",
        "        baseline,\n",
        "        num_samples=50,\n",
        "        use_expectation=True,\n",
        "        output_indices=None,\n",
        "        interaction_index=None,\n",
        "        verbose=True,\n",
        "        uniform_interpolate=False,\n",
        "        gauss_legendre=False,\n",
        "    ):\n",
        "        equal_dims = baseline.shape[1:] == input_tensor.shape[1:]\n",
        "        almost_equal_dims = baseline.shape == input_tensor.shape[1:]\n",
        "\n",
        "        if use_expectation and not equal_dims:\n",
        "            raise ValueError(\n",
        "                \"baseline should be shape (num_refs, ...) \\\n",
        "                              where ... indicates the dimensionality   \\\n",
        "                              of the input\"\n",
        "            )\n",
        "\n",
        "        if not use_expectation and baseline.shape[0] != 1:\n",
        "            if almost_equal_dims:\n",
        "                baseline = baseline.unsqueeze(0)\n",
        "            else:\n",
        "                raise ValueError(\n",
        "                    \"baseline should be shape (...)           \\\n",
        "                                  where ... indicates the dimensionality   \\\n",
        "                                  of the input\"\n",
        "                )\n",
        "\n",
        "        inner_loop_nsamples = int(round(np.sqrt(num_samples)))\n",
        "\n",
        "        # (batch_size, inner_loop_nsamples, sen_len, nhid)\n",
        "        samples_input, samples_delta, weights = self._get_samples_input(\n",
        "            input_tensor,\n",
        "            baseline,\n",
        "            inner_loop_nsamples,\n",
        "            use_expectation,\n",
        "            uniform_interpolate=uniform_interpolate,\n",
        "        )\n",
        "\n",
        "        if interaction_index is not None:\n",
        "            interaction_mult_tensor = torch.zeros(\n",
        "                [input_tensor.size(1), samples_input.size(1), input_tensor.size(2)]\n",
        "            )\n",
        "        else:\n",
        "            # (batch_size, inner_loop_nsamples, sen_len, sen_len, nhid)\n",
        "            interaction_mult_tensor = torch.zeros(\n",
        "                [\n",
        "                    input_tensor.size(0),\n",
        "                    samples_input.size(1),\n",
        "                    input_tensor.size(1),\n",
        "                    input_tensor.size(1),\n",
        "                    input_tensor.size(2),\n",
        "                ]\n",
        "            )\n",
        "\n",
        "\n",
        "        if use_expectation:\n",
        "            loop_num = inner_loop_nsamples\n",
        "        else:\n",
        "            loop_num = inner_loop_nsamples  # + 1\n",
        "\n",
        "        if verbose:\n",
        "            iterable = tqdm(range(loop_num))\n",
        "        else:\n",
        "            iterable = range(loop_num)\n",
        "\n",
        "        # i ranges over loop_num (=inner_loop_nsamples = sqrt(num_samples))\n",
        "        for i in iterable:\n",
        "            # (batch_size, sen_len, nhid)  <-- single interpolation point\n",
        "            particular_slice = samples_input[:, i]\n",
        "            # (batch_size, sen_len, nhid)  <-- emb.-level attributions to output_indices\n",
        "            attributions = self.attributions(\n",
        "                particular_slice,\n",
        "                baseline,\n",
        "                num_samples=inner_loop_nsamples,\n",
        "                use_expectation=use_expectation,\n",
        "                output_indices=output_indices,\n",
        "                uniform_interpolate=uniform_interpolate,\n",
        "                gauss_legendre=gauss_legendre,\n",
        "            )\n",
        "\n",
        "            if interaction_index is not None:\n",
        "                second_grads = grad(\n",
        "                    outputs=attributions[:, interaction_index],\n",
        "                    inputs=particular_slice,\n",
        "                    grad_outputs=torch.ones_like(attributions[:, interaction_index]),\n",
        "                    create_graph=True,\n",
        "                )[0]\n",
        "                interaction_mult_tensor[:, i, :] = second_grads\n",
        "\n",
        "            else:\n",
        "                for feature in range(input_tensor.size(1)):\n",
        "                    # (batch_size, sen_len, nhid)  <-- attributions to IG value of feature\n",
        "                    second_grads = grad(\n",
        "                        outputs=attributions[:, feature],\n",
        "                        inputs=particular_slice,\n",
        "                        grad_outputs=torch.ones_like(attributions[:, feature]),\n",
        "                        create_graph=True,\n",
        "                    )[0]\n",
        "                    # i ranges over sqrt(num_samples)?\n",
        "                    # feature ranges over sen_len\n",
        "                    interaction_mult_tensor[:, i, feature, :, :] = second_grads.detach()\n",
        "\n",
        "        interaction_mult_tensor = interaction_mult_tensor.to(samples_delta.device)\n",
        "        if interaction_index is not None:\n",
        "            interaction_tensor = interaction_mult_tensor * samples_delta\n",
        "        else:\n",
        "            # samples_delta : (batch_size, 1, sen_len, nhid)\n",
        "            # interaction_mult_tensor : (batch_size, inner_loop, sen_len, sen_len, nhid)\n",
        "            interaction_tensor = interaction_mult_tensor * samples_delta.unsqueeze(3)\n",
        "\n",
        "        # (weighted) mean over inner_loop_nsamples\n",
        "        interactions = (interaction_tensor * weights.unsqueeze(-1)).sum(1)\n",
        "\n",
        "        # interactions are not summed yet over the embedding dimension!\n",
        "        return interactions\n",
        "\n",
        "    def _get_samples_input(\n",
        "        self,\n",
        "        input_tensor,\n",
        "        baseline,\n",
        "        num_samples,\n",
        "        use_expectation,\n",
        "        uniform_interpolate=False,\n",
        "        gauss_legendre=False,\n",
        "    ):\n",
        "        \"\"\"\n",
        "        calculate interpolation points\n",
        "        Args:\n",
        "            input_tensor: Tensor of shape (batch, ...), where ... indicates\n",
        "                          the input dimensions.\n",
        "            reference_tensor: A tensor of shape (batch, k, ...) where ...\n",
        "                indicates dimensions, and k represents the number of background\n",
        "                reference samples to draw per input in the batch.\n",
        "        Returns:\n",
        "            samples_input: A tensor of shape (batch, k, ...) with the\n",
        "                interpolated points between input and ref.\n",
        "            samples_delta: A tensor of shape (batch, 1, ...) with the\n",
        "                difference between input and reference for each sample\n",
        "        \"\"\"\n",
        "        input_dims = list(input_tensor.size())[1:]\n",
        "        num_input_dims = len(input_dims)\n",
        "        batch_size = input_tensor.size()[0]\n",
        "\n",
        "        if use_expectation and uniform_interpolate:\n",
        "            num_baselines = baseline.size(0)\n",
        "            assert num_samples > num_baselines\n",
        "            num_interpolations = num_samples // num_baselines\n",
        "            reference_tensor = torch.tile(baseline, (num_interpolations, 1, 1))\n",
        "            t_tensor = torch.tensor(\n",
        "                [\n",
        "                    [\n",
        "                        (float(i) / (num_interpolations - 1))\n",
        "                        for i in range(num_interpolations)\n",
        "                        for _ in range(num_baselines)\n",
        "                    ]\n",
        "                ]\n",
        "                * batch_size\n",
        "            )\n",
        "\n",
        "        if use_expectation and not uniform_interpolate:\n",
        "            reference_tensor = self._get_ref_tensor(baseline, batch_size, num_samples)\n",
        "            shape = reference_tensor.shape\n",
        "            reference_tensor = reference_tensor.view(\n",
        "                batch_size, num_samples, *(shape[1:])\n",
        "            )\n",
        "            t_tensor = (\n",
        "                torch.FloatTensor(batch_size, num_samples)\n",
        "                .uniform_(0, 1)\n",
        "                .to(reference_tensor.device)\n",
        "            )\n",
        "\n",
        "        weights = torch.tensor([1 / num_samples for i in range(num_samples)])\n",
        "\n",
        "        if use_expectation:\n",
        "            shape = [batch_size, num_samples] + [1] * num_input_dims\n",
        "            interp_coef = t_tensor.view(*shape)\n",
        "\n",
        "            # Evaluate the end points\n",
        "            end_point_ref = (1.0 - interp_coef) * reference_tensor\n",
        "\n",
        "            input_expand_mult = input_tensor.unsqueeze(1)\n",
        "            end_point_input = interp_coef * input_expand_mult\n",
        "\n",
        "            # Affine Combine\n",
        "            samples_input = end_point_input + end_point_ref\n",
        "        else:\n",
        "            batch_size = input_tensor.size()[0]\n",
        "            input_expand = input_tensor.unsqueeze(1)\n",
        "            reps = np.ones(len(baseline.shape)).astype(int)\n",
        "            reps[0] = batch_size\n",
        "            reference_tensor = baseline.repeat(list(reps)).unsqueeze(1)\n",
        "\n",
        "            if gauss_legendre:\n",
        "                x, w = np.polynomial.legendre.leggauss(num_samples)\n",
        "                alphas = list(0.5 * (1 + x))\n",
        "                weights = torch.tensor(0.5 * w)\n",
        "                weights /= weights.sum()\n",
        "            else:\n",
        "                alphas = [(float(i) / (num_samples - 1)) for i in range(num_samples)]\n",
        "\n",
        "            scaled_inputs = [\n",
        "                reference_tensor + alpha * (input_expand - reference_tensor)\n",
        "                for alpha in alphas\n",
        "            ]\n",
        "\n",
        "            samples_input = torch.cat(scaled_inputs, dim=1)\n",
        "\n",
        "        samples_delta = self._get_samples_delta(input_tensor, reference_tensor)\n",
        "        samples_delta = samples_delta.to(samples_input.device)\n",
        "        samples_weights = weights.view(1, -1, 1, 1)\n",
        "\n",
        "        return samples_input, samples_delta, samples_weights\n",
        "\n",
        "\n",
        "model = AutoModelForCausalLM.from_pretrained(\"distilgpt2\")\n",
        "tokenizer = AutoTokenizer.from_pretrained(\"distilgpt2\")\n",
        "\n",
        "\n",
        "def embedding_model(batch_ids):\n",
        "    batch_embedding = model.transformer.wte.weight[[batch_ids]]\n",
        "    return batch_embedding\n",
        "\n",
        "\n",
        "def prediction_model(batch_embedding):\n",
        "    logits = model(inputs_embeds=batch_embedding).logits[:, -1]\n",
        "    probs = torch.log_softmax(logits, dim=-1)\n",
        "\n",
        "    return probs\n",
        "\n",
        "\n",
        "sen = \"They call New York the big\"\n",
        "out = \"apple\"\n",
        "\n",
        "batch_input = tokenizer([sen])\n",
        "batch_ids = batch_input['input_ids']\n",
        "batch_embedding = embedding_model(batch_ids)\n",
        "\n",
        "baseline_embedding = torch.zeros_like(batch_embedding)\n",
        "\n",
        "output_idx = torch.tensor([tokenizer.convert_tokens_to_ids(f\"Ġ{out}\")])\n",
        "\n",
        "explainer = PathExplainerTorch(prediction_model)\n",
        "\n",
        "\n",
        "attributions = explainer.attributions(\n",
        "    batch_embedding,\n",
        "    baseline_embedding,\n",
        "    output_indices=output_idx,\n",
        "    num_samples=30,\n",
        "    use_expectation=False,\n",
        "    gauss_legendre=True,\n",
        ")\n",
        "\n",
        "sum_attr = attributions.squeeze().detach().numpy().sum(-1)  # Sum over embedding dim\n",
        "\n",
        "logit = prediction_model(batch_embedding)[0, output_idx].item()\n",
        "baseline_output = prediction_model(baseline_embedding)[0, output_idx].item()\n",
        "\n",
        "print(\"logit\", logit)\n",
        "print(\"attributions\", sum_attr)\n",
        "print(\"sum\", sum(sum_attr))\n",
        "print(\"diff\", sum(sum_attr) - (logit - baseline_output))\n"
      ]
    },
    {
      "cell_type": "code",
      "source": [],
      "metadata": {
        "id": "RKnUL2Gzn0BI"
      },
      "execution_count": null,
      "outputs": []
    },
    {
      "cell_type": "code",
      "execution_count": null,
      "metadata": {
        "id": "5zdaf6yKRw2O",
        "outputId": "ea019e59-6c8e-489c-fe11-11e32c0d139a"
      },
      "outputs": [
        {
          "name": "stderr",
          "output_type": "stream",
          "text": [
            "100%|██████████| 5/5 [00:38<00:00,  7.65s/it]\n"
          ]
        }
      ],
      "source": [
        "interactions = explainer.interactions(\n",
        "    batch_embedding,\n",
        "    baseline_embedding,\n",
        "    output_indices=output_idx,\n",
        "    num_samples=30,\n",
        "    use_expectation=False,\n",
        "    gauss_legendre=True,\n",
        ")\n"
      ]
    },
    {
      "cell_type": "code",
      "execution_count": null,
      "metadata": {
        "id": "xRWZMkwRRw2P",
        "outputId": "500c1887-5600-47bf-faed-025c1139d73f"
      },
      "outputs": [
        {
          "name": "stdout",
          "output_type": "stream",
          "text": [
            "tensor([2.7611], dtype=torch.float64, grad_fn=<MeanBackward1>)\n"
          ]
        },
        {
          "data": {
            "text/plain": [
              "([[-0.17408376932144165,\n",
              "   -2.114426374435425,\n",
              "   -0.21221479773521423,\n",
              "   1.196111798286438,\n",
              "   -0.7150311470031738,\n",
              "   -1.7251404523849487]],\n",
              " [[0.4573156064257446,\n",
              "   -0.9655218207861364,\n",
              "   0.5571199000438878,\n",
              "   0.4546625489238136,\n",
              "   1.0911151670302792,\n",
              "   1.5066471767602652]])"
            ]
          },
          "execution_count": 6,
          "metadata": {},
          "output_type": "execute_result"
        }
      ],
      "source": [
        "mse = lambda A, B: ((A - B)**2).mean(axis=-1)\n",
        "\n",
        "print(mse(attributions.sum(-1), interactions.sum(-1).sum(-1)))\n",
        "\n",
        "interactions.sum(-1).sum(-1).tolist(), attributions.sum(-1).tolist()"
      ]
    },
    {
      "cell_type": "code",
      "execution_count": null,
      "metadata": {
        "id": "EPQtjr8sRw2P",
        "outputId": "11f67aa6-3671-45cc-ec6a-57313c6b8a01"
      },
      "outputs": [
        {
          "data": {
            "text/plain": [
              "(<matplotlib.image.AxesImage at 0x7f2309052190>,\n",
              " <matplotlib.colorbar.Colorbar at 0x7f23083bbe50>)"
            ]
          },
          "execution_count": 3,
          "metadata": {},
          "output_type": "execute_result"
        },
        {
          "data": {
            "image/png": "[encoded data removed]",
            "text/plain": [
              "<Figure size 432x288 with 2 Axes>"
            ]
          },
          "metadata": {
            "needs_background": "light"
          },
          "output_type": "display_data"
        }
      ],
      "source": [
        "from path_explain import matrix_interaction_plot\n",
        "\n",
        "matrix_interaction_plot(\n",
        "    interactions[0].detach().numpy().sum(-1),\n",
        "    sen.split(),\n",
        "    zero_diagonals=False,\n",
        ")"
      ]
    },
    {
      "cell_type": "markdown",
      "metadata": {
        "id": "ix2RwF7lRw2Q"
      },
      "source": [
        "# Tensorflow"
      ]
    },
    {
      "cell_type": "code",
      "execution_count": null,
      "metadata": {
        "scrolled": false,
        "id": "Ik8fOPEpRw2Q",
        "outputId": "749a35a3-ff17-4f28-8d69-301fe91ed334"
      },
      "outputs": [
        {
          "name": "stderr",
          "output_type": "stream",
          "text": [
            "All model checkpoint layers were used when initializing TFGPT2LMHeadModel.\n",
            "\n",
            "All the layers of TFGPT2LMHeadModel were initialized from the model checkpoint at distilgpt2.\n",
            "If your task is similar to the task the model of the checkpoint was trained on, you can already use TFGPT2LMHeadModel for predictions without further training.\n"
          ]
        },
        {
          "name": "stdout",
          "output_type": "stream",
          "text": [
            "['They', 'Ġcall', 'ĠNew', 'ĠYork', 'Ġthe', 'ĠBig']\n",
            "logit -1.9081895\n",
            "attributions [[ 0.94580823 -0.44317928  1.49607217  1.492033   -0.6304422   5.14608812]]\n",
            "sum 8.006380051374435\n",
            "baseline -10.116768\n",
            "diff -0.2021980583667755\n"
          ]
        },
        {
          "data": {
            "image/png": "[encoded data removed]",
            "text/plain": [
              "<Figure size 7.2x7.2 with 1 Axes>"
            ]
          },
          "metadata": {
            "needs_background": "light"
          },
          "output_type": "display_data"
        }
      ],
      "source": [
        "from path_explain import EmbeddingExplainerTF, text_plot\n",
        "import numpy as np\n",
        "from scipy.special import log_softmax\n",
        "import tensorflow as tf\n",
        "from transformers import TFAutoModelForCausalLM, AutoTokenizer\n",
        "import matplotlib.pyplot as plt\n",
        "\n",
        "\n",
        "tf_model = TFAutoModelForCausalLM.from_pretrained(\"distilgpt2\")\n",
        "tf_tokenizer = AutoTokenizer.from_pretrained(\"distilgpt2\")\n",
        "\n",
        "\n",
        "def embedding_model(batch_ids):\n",
        "    batch_embedding = tf_model.transformer.wte(batch_ids)\n",
        "    return batch_embedding\n",
        "\n",
        "\n",
        "def prediction_model(batch_embedding):\n",
        "    if isinstance(batch_embedding, np.ndarray):\n",
        "        batch_embedding = tf.convert_to_tensor(batch_embedding)\n",
        "    logits = tf_model(None, inputs_embeds=batch_embedding).logits[:, -1]\n",
        "    probs = tf.nn.log_softmax(logits, axis=-1)\n",
        "\n",
        "    return probs\n",
        "\n",
        "\n",
        "all_attr = []\n",
        "\n",
        "full_sen = \"They call New York the Big\"\n",
        "out = \"ĠApple\"\n",
        "\n",
        "print(tf_tokenizer.tokenize(full_sen))\n",
        "\n",
        "for idx in range(len(full_sen.split()), len(full_sen.split())+1):\n",
        "    sen = \" \".join(full_sen.split()[:idx])\n",
        "\n",
        "    batch_input = tf_tokenizer([sen])\n",
        "    batch_ids = batch_input['input_ids']\n",
        "    batch_embedding = embedding_model(batch_ids)\n",
        "\n",
        "    baseline_embedding = np.zeros_like(batch_embedding)\n",
        "\n",
        "    output_idx = tf_tokenizer.convert_tokens_to_ids(out)\n",
        "\n",
        "    explainer = EmbeddingExplainerTF(prediction_model)\n",
        "    attributions = explainer.attributions(\n",
        "        batch_embedding,\n",
        "        baseline_embedding,\n",
        "        output_indices=output_idx,\n",
        "        num_samples=30,\n",
        "        batch_size=1,\n",
        "        use_expectation=False,\n",
        "    )\n",
        "\n",
        "    logit = prediction_model(batch_embedding)[0, output_idx].numpy()\n",
        "    baseline_output = prediction_model(baseline_embedding)[0, output_idx].numpy()\n",
        "\n",
        "    print(\"logit\", logit)\n",
        "    print(\"attributions\", attributions)\n",
        "    print(\"sum\", sum(attributions[0]))\n",
        "    print(\"baseline\", baseline_output)\n",
        "    print(\"diff\", sum(attributions[0])-(logit-baseline_output))\n",
        "\n",
        "    text_plot(\n",
        "        sen.split() + [f\"{logit:.2f}\"],\n",
        "        attributions[0].tolist() + [logit],\n",
        "    )\n",
        "    plt.show()"
      ]
    },
    {
      "cell_type": "code",
      "execution_count": null,
      "metadata": {
        "id": "bw_V7_EWRw2R",
        "outputId": "140789a4-3717-40ba-fb50-11bf7867b02e"
      },
      "outputs": [
        {
          "data": {
            "text/plain": [
              "(<tf.Tensor: shape=(1, 6, 768), dtype=float32, numpy=\n",
              " array([[[ 0.00427782, -0.04281095,  0.08497927, ..., -0.18572907,\n",
              "          -0.00663658,  0.09127836],\n",
              "         [-0.01042679, -0.11828714,  0.27737835, ...,  0.02839764,\n",
              "           0.01829186, -0.18716957],\n",
              "         [-0.14911385, -0.02701931,  0.19814098, ..., -0.19549231,\n",
              "           0.06978033, -0.1610369 ],\n",
              "         [-0.0726658 , -0.00557622,  0.24603659, ..., -0.10872955,\n",
              "           0.20433503, -0.04127118],\n",
              "         [-0.07323239,  0.01825453,  0.02313236, ..., -0.06644281,\n",
              "           0.07042494, -0.06527912],\n",
              "         [-0.1576324 ,  0.02972503,  0.14177276, ..., -0.13400798,\n",
              "           0.02796467,  0.05287449]]], dtype=float32)>,\n",
              " array([[[0., 0., 0., ..., 0., 0., 0.],\n",
              "         [0., 0., 0., ..., 0., 0., 0.],\n",
              "         [0., 0., 0., ..., 0., 0., 0.],\n",
              "         [0., 0., 0., ..., 0., 0., 0.],\n",
              "         [0., 0., 0., ..., 0., 0., 0.],\n",
              "         [0., 0., 0., ..., 0., 0., 0.]]], dtype=float32))"
            ]
          },
          "execution_count": 3,
          "metadata": {},
          "output_type": "execute_result"
        }
      ],
      "source": [
        "batch_embedding, baseline_embedding"
      ]
    },
    {
      "cell_type": "code",
      "execution_count": null,
      "metadata": {
        "id": "KMpscdd1Rw2S",
        "outputId": "4cddf21f-1bd9-4bbf-f528-945e7d0b0d33"
      },
      "outputs": [
        {
          "name": "stderr",
          "output_type": "stream",
          "text": [
            "100%|██████████| 2/2 [00:36<00:00, 18.42s/it]\n"
          ]
        }
      ],
      "source": [
        "interactions = explainer.interactions(\n",
        "    batch_embedding,\n",
        "    baseline_embedding,\n",
        "    output_indices=output_idx,\n",
        "    num_samples=100,\n",
        "    batch_size=50,\n",
        "    use_expectation=False,\n",
        "    verbose=False,\n",
        ")"
      ]
    },
    {
      "cell_type": "code",
      "execution_count": null,
      "metadata": {
        "id": "DzGEs5UKRw2S",
        "outputId": "658c627c-a374-4fc9-ba52-5688dd71aac5"
      },
      "outputs": [
        {
          "data": {
            "text/plain": [
              "(<AxesSubplot:xlabel='Interaction Value', ylabel='Strongest Interacting Pairs'>,\n",
              " <Axes:>)"
            ]
          },
          "execution_count": 16,
          "metadata": {},
          "output_type": "execute_result"
        },
        {
          "data": {
            "image/png": "[encoded data removed]",
            "text/plain": [
              "<Figure size 432x288 with 2 Axes>"
            ]
          },
          "metadata": {
            "needs_background": "light"
          },
          "output_type": "display_data"
        },
        {
          "data": {
            "image/png": "[encoded data removed]",
            "text/plain": [
              "<Figure size 432x288 with 2 Axes>"
            ]
          },
          "metadata": {
            "needs_background": "light"
          },
          "output_type": "display_data"
        }
      ],
      "source": [
        "from path_explain import matrix_interaction_plot, bar_interaction_plot\n",
        "\n",
        "matrix_interaction_plot(\n",
        "    interactions[0],\n",
        "    sen.split(),\n",
        "    zero_diagonals=False,\n",
        ")\n",
        "\n",
        "bar_interaction_plot(\n",
        "    interactions[0],\n",
        "    sen.split(),\n",
        "    top_k=10,\n",
        "    zero_diagonals=True,\n",
        ")"
      ]
    },
    {
      "cell_type": "code",
      "execution_count": null,
      "metadata": {
        "scrolled": true,
        "id": "RBabXrJ6Rw2S",
        "outputId": "98d94ef5-e752-472a-87a0-4d9044f26d05"
      },
      "outputs": [
        {
          "name": "stderr",
          "output_type": "stream",
          "text": [
            "  0%|          | 0/10 [00:00<?, ?it/s]\n",
            "  0%|          | 0/1 [00:00<?, ?it/s]\u001b[A\n",
            "100%|██████████| 1/1 [00:16<00:00, 16.24s/it]\u001b[A\n",
            " 10%|█         | 1/10 [00:20<03:04, 20.54s/it]"
          ]
        },
        {
          "name": "stdout",
          "output_type": "stream",
          "text": [
            "10 [16.57220728]\n"
          ]
        },
        {
          "name": "stderr",
          "output_type": "stream",
          "text": [
            "\n",
            "  0%|          | 0/1 [00:00<?, ?it/s]\u001b[A\n",
            "100%|██████████| 1/1 [00:15<00:00, 15.35s/it]\u001b[A\n",
            " 20%|██        | 2/10 [00:43<02:49, 21.13s/it]"
          ]
        },
        {
          "name": "stdout",
          "output_type": "stream",
          "text": [
            "20 [0.82457361]\n"
          ]
        },
        {
          "name": "stderr",
          "output_type": "stream",
          "text": [
            "\n",
            "  0%|          | 0/1 [00:00<?, ?it/s]\u001b[A\n",
            "100%|██████████| 1/1 [00:16<00:00, 16.19s/it]\u001b[A\n",
            " 30%|███       | 3/10 [01:09<02:39, 22.84s/it]"
          ]
        },
        {
          "name": "stdout",
          "output_type": "stream",
          "text": [
            "30 [2.09895737]\n"
          ]
        },
        {
          "name": "stderr",
          "output_type": "stream",
          "text": [
            "\n",
            "  0%|          | 0/1 [00:00<?, ?it/s]\u001b[A\n",
            "100%|██████████| 1/1 [00:17<00:00, 17.04s/it]\u001b[A\n",
            " 40%|████      | 4/10 [01:40<02:31, 25.28s/it]"
          ]
        },
        {
          "name": "stdout",
          "output_type": "stream",
          "text": [
            "40 [1.31365409]\n"
          ]
        },
        {
          "name": "stderr",
          "output_type": "stream",
          "text": [
            "\n",
            "  0%|          | 0/1 [00:00<?, ?it/s]\u001b[A"
          ]
        },
        {
          "name": "stdout",
          "output_type": "stream",
          "text": [
            "WARNING:tensorflow:5 out of the last 5 calls to <function pfor.<locals>.f at 0x7f4cc013e700> triggered tf.function retracing. Tracing is expensive and the excessive number of tracings could be due to (1) creating @tf.function repeatedly in a loop, (2) passing tensors with different shapes, (3) passing Python objects instead of tensors. For (1), please define your @tf.function outside of the loop. For (2), @tf.function has experimental_relax_shapes=True option that relaxes argument shapes that can avoid unnecessary retracing. For (3), please refer to https://www.tensorflow.org/guide/function#controlling_retracing and https://www.tensorflow.org/api_docs/python/tf/function for  more details.\n"
          ]
        },
        {
          "name": "stderr",
          "output_type": "stream",
          "text": [
            "\n",
            "100%|██████████| 1/1 [00:20<00:00, 20.76s/it]\u001b[A\n",
            " 50%|█████     | 5/10 [02:20<02:27, 29.51s/it]"
          ]
        },
        {
          "name": "stdout",
          "output_type": "stream",
          "text": [
            "50 [0.85697252]\n"
          ]
        },
        {
          "name": "stderr",
          "output_type": "stream",
          "text": [
            "\n",
            "  0%|          | 0/1 [00:00<?, ?it/s]\u001b[A"
          ]
        },
        {
          "name": "stdout",
          "output_type": "stream",
          "text": [
            "WARNING:tensorflow:6 out of the last 6 calls to <function pfor.<locals>.f at 0x7f4c803ec940> triggered tf.function retracing. Tracing is expensive and the excessive number of tracings could be due to (1) creating @tf.function repeatedly in a loop, (2) passing tensors with different shapes, (3) passing Python objects instead of tensors. For (1), please define your @tf.function outside of the loop. For (2), @tf.function has experimental_relax_shapes=True option that relaxes argument shapes that can avoid unnecessary retracing. For (3), please refer to https://www.tensorflow.org/guide/function#controlling_retracing and https://www.tensorflow.org/api_docs/python/tf/function for  more details.\n"
          ]
        },
        {
          "name": "stderr",
          "output_type": "stream",
          "text": [
            "\n",
            "100%|██████████| 1/1 [00:20<00:00, 20.80s/it]\u001b[A\n",
            " 60%|██████    | 6/10 [03:05<02:16, 34.24s/it]"
          ]
        },
        {
          "name": "stdout",
          "output_type": "stream",
          "text": [
            "60 [0.2698558]\n"
          ]
        },
        {
          "name": "stderr",
          "output_type": "stream",
          "text": [
            "\n",
            "  0%|          | 0/1 [00:00<?, ?it/s]\u001b[A\n",
            "100%|██████████| 1/1 [00:19<00:00, 19.30s/it]\u001b[A\n",
            " 70%|███████   | 7/10 [03:46<01:49, 36.37s/it]"
          ]
        },
        {
          "name": "stdout",
          "output_type": "stream",
          "text": [
            "70 [2.17938135]\n"
          ]
        },
        {
          "name": "stderr",
          "output_type": "stream",
          "text": [
            "\n",
            "  0%|          | 0/1 [00:00<?, ?it/s]\u001b[A\n",
            "100%|██████████| 1/1 [00:20<00:00, 20.21s/it]\u001b[A\n",
            " 80%|████████  | 8/10 [04:31<01:18, 39.01s/it]"
          ]
        },
        {
          "name": "stdout",
          "output_type": "stream",
          "text": [
            "80 [1.01939998]\n"
          ]
        },
        {
          "name": "stderr",
          "output_type": "stream",
          "text": [
            "\n",
            "  0%|          | 0/1 [00:00<?, ?it/s]\u001b[A\n",
            "100%|██████████| 1/1 [00:22<00:00, 22.37s/it]\u001b[A\n",
            " 90%|█████████ | 9/10 [05:20<00:41, 41.91s/it]"
          ]
        },
        {
          "name": "stdout",
          "output_type": "stream",
          "text": [
            "90 [0.23753148]\n"
          ]
        },
        {
          "name": "stderr",
          "output_type": "stream",
          "text": [
            "\n",
            "  0%|          | 0/1 [00:00<?, ?it/s]\u001b[A\n",
            "100%|██████████| 1/1 [00:21<00:00, 21.52s/it]\u001b[A\n",
            "100%|██████████| 10/10 [06:11<00:00, 37.19s/it]"
          ]
        },
        {
          "name": "stdout",
          "output_type": "stream",
          "text": [
            "100 [0.14613806]\n"
          ]
        },
        {
          "name": "stderr",
          "output_type": "stream",
          "text": [
            "\n"
          ]
        }
      ],
      "source": [
        "from tqdm import *\n",
        "\n",
        "mses = []\n",
        "mse = lambda A, B: ((A - B)**2).mean(axis=-1)\n",
        "\n",
        "for i in trange(1,11):\n",
        "    attributions = explainer.attributions(\n",
        "        batch_embedding,\n",
        "        baseline_embedding,\n",
        "        output_indices=output_idx,\n",
        "        num_samples=i*10,\n",
        "        use_expectation=False,\n",
        "    )\n",
        "\n",
        "    interactions = explainer.interactions(\n",
        "        batch_embedding,\n",
        "        baseline_embedding,\n",
        "        output_indices=output_idx,\n",
        "        num_samples=i*10,\n",
        "        batch_size=100,\n",
        "        use_expectation=False,\n",
        "        verbose=False,\n",
        "    )\n",
        "    print(i*10, mse(attributions, interactions.sum(-1)))\n",
        "    mses.append(mse(attributions, interactions.sum(-1)))"
      ]
    },
    {
      "cell_type": "code",
      "execution_count": null,
      "metadata": {
        "id": "YuRjrKU4Rw2T",
        "outputId": "7dadf2c9-4e7b-47aa-b9f6-93f2bb05ad91"
      },
      "outputs": [
        {
          "data": {
            "text/plain": [
              "[<matplotlib.lines.Line2D at 0x7f4c57720e80>]"
            ]
          },
          "execution_count": 5,
          "metadata": {},
          "output_type": "execute_result"
        },
        {
          "data": {
            "image/png": "[encoded data removed]",
            "text/plain": [
              "<Figure size 432x288 with 1 Axes>"
            ]
          },
          "metadata": {
            "needs_background": "light"
          },
          "output_type": "display_data"
        }
      ],
      "source": [
        "import matplotlib.pyplot as plt\n",
        "\n",
        "plt.plot(mses[1:])"
      ]
    },
    {
      "cell_type": "code",
      "execution_count": null,
      "metadata": {
        "id": "Uynwz1l4Rw2T",
        "outputId": "c51c5cb7-6935-4358-eceb-336841d09cac"
      },
      "outputs": [
        {
          "name": "stdout",
          "output_type": "stream",
          "text": [
            "[[0.90857565 0.70387477 0.89427251 5.82610035 1.41065097]]\n",
            "9.743474245071411 8.278649590909481\n"
          ]
        },
        {
          "data": {
            "text/plain": [
              "array([[0.7441911 , 0.48286861, 0.52309201, 5.25344126, 1.27505662]])"
            ]
          },
          "execution_count": 11,
          "metadata": {},
          "output_type": "execute_result"
        }
      ],
      "source": [
        "print(attributions)\n",
        "\n",
        "print(attributions.sum(), interactions.sum())\n",
        "\n",
        "interactions.sum(-1)"
      ]
    },
    {
      "cell_type": "code",
      "execution_count": null,
      "metadata": {
        "id": "sX96_pfpRw2T",
        "outputId": "36b6551f-6db8-434e-a1d7-ce16d003a605"
      },
      "outputs": [
        {
          "name": "stdout",
          "output_type": "stream",
          "text": [
            "The autoreload extension is already loaded. To reload it, use:\n",
            "  %reload_ext autoreload\n"
          ]
        },
        {
          "data": {
            "image/png": "[encoded data removed]",
            "text/plain": [
              "<Figure size 7.2x7.2 with 1 Axes>"
            ]
          },
          "metadata": {
            "needs_background": "light"
          },
          "output_type": "display_data"
        },
        {
          "data": {
            "image/png": "[encoded data removed]",
            "text/plain": [
              "<Figure size 432x288 with 2 Axes>"
            ]
          },
          "metadata": {
            "needs_background": "light"
          },
          "output_type": "display_data"
        },
        {
          "data": {
            "image/png": "[encoded data removed]",
            "text/plain": [
              "<Figure size 432x288 with 2 Axes>"
            ]
          },
          "metadata": {
            "needs_background": "light"
          },
          "output_type": "display_data"
        }
      ],
      "source": [
        "%load_ext autoreload\n",
        "%autoreload 2\n",
        "\n",
        "from path_explain import matrix_interaction_plot, bar_interaction_plot\n",
        "\n",
        "text_plot(\n",
        "    sen.split(),\n",
        "    attributions[0],\n",
        ")\n",
        "\n",
        "bar_interaction_plot(\n",
        "    interactions[0],\n",
        "    sen.split(),\n",
        "    top_k=10,\n",
        "    zero_diagonals=False,\n",
        ")\n",
        "plt.show()\n",
        "\n",
        "matrix_interaction_plot(interactions[0],\n",
        "                        sen.split(),\n",
        "                        zero_diagonals=False,\n",
        "                       )\n",
        "\n",
        "plt.show()"
      ]
    },
    {
      "cell_type": "code",
      "execution_count": null,
      "metadata": {
        "id": "Kyg-7hPlRw2T",
        "outputId": "84dff628-d9f5-4646-9ed8-8aa7b448dcbd"
      },
      "outputs": [
        {
          "name": "stdout",
          "output_type": "stream",
          "text": [
            "[[[ 0.8  -0.17  0.19  0.07 -0.15]\n",
            "  [-0.17 -0.14 -0.03  0.95 -0.12]\n",
            "  [ 0.19 -0.03 -0.09 -0.79  1.24]\n",
            "  [ 0.07  0.95 -0.79  4.45  0.57]\n",
            "  [-0.15 -0.12  1.24  0.57 -0.27]]] \n",
            "\n",
            "[[0.74 0.48 0.52 5.25 1.28]] \n",
            "\n",
            "[[0.91 0.7  0.89 5.83 1.41]] \n",
            "\n",
            "[0.11199305]\n"
          ]
        }
      ],
      "source": [
        "print(np.round(interactions, 2),\"\\n\")\n",
        "print(np.round(interactions.sum(-1), 2),\"\\n\")\n",
        "print(np.round(attributions, 2),\"\\n\")\n",
        "\n",
        "mse = lambda A, B: ((A - B)**2).mean(axis=-1)\n",
        "print(mse(attributions, interactions.sum(-1)))"
      ]
    },
    {
      "cell_type": "code",
      "execution_count": null,
      "metadata": {
        "id": "jnQvjteRRw2U",
        "outputId": "4418b20b-bc83-4a15-d763-827317d62cfa"
      },
      "outputs": [
        {
          "name": "stdout",
          "output_type": "stream",
          "text": [
            "\\begin{dependency}[hide label, edge unit distance=.5ex]\n",
            "    \\begin{deptext}[column sep=0.05cm]\n",
            "    John\\& is\\& eating\\& pasta\\& with\\& a\\& fork \\\\\n",
            "\\end{deptext}\n",
            "\\depedge[-,edge style={red!60!}, edge below]{1}{2}{.}\n",
            "\\depedge[-,edge style={red!60!}, edge below]{4}{6}{.}\n",
            "\\depedge[-,edge style={red!60!}, edge below]{2}{3}{.}\n",
            "\\depedge[-,edge style={red!60!}, edge below]{6}{7}{.}\n",
            "\\depedge[-,edge style={red!60!}, edge below]{4}{5}{.}\n",
            "\\depedge[-,edge style={red!60!}, edge below]{3}{6}{.}\n",
            "\\end{dependency}\n",
            "\n"
          ]
        }
      ],
      "source": [
        "from scipy.sparse.csgraph import minimum_spanning_tree\n",
        "\n",
        "mst = minimum_spanning_tree(\n",
        "    np.triu(-interactions.squeeze())\n",
        ").toarray()\n",
        "\n",
        "mst[mst!=0.] = 1\n",
        "\n",
        "\n",
        "def mst_edges(mst):\n",
        "    edges = set()\n",
        "\n",
        "    for i in range(mst.shape[0]):\n",
        "        for j in range(i, mst.shape[0]):\n",
        "            if mst[i, j] == 1 or mst[j, i] == 1:\n",
        "                edges.add((i+1, j+1))\n",
        "\n",
        "    return edges\n",
        "\n",
        "\n",
        "def print_tikz(predicted_edges, gold_edges, words):\n",
        "    string = \"\"\"\\\\begin{dependency}[hide label, edge unit distance=.5ex]\n",
        "    \\\\begin{deptext}[column sep=0.05cm]\n",
        "    \"\"\"\n",
        "    string += (\n",
        "        \"\\\\& \".join([x.replace(\"$\", \"\\$\").replace(\"&\", \"+\") for x in words])\n",
        "        + \" \\\\\\\\\\n\"\n",
        "    )\n",
        "    string += \"\\\\end{deptext}\" + \"\\n\"\n",
        "#     for i_index, j_index in gold_edges:\n",
        "#         string += \"\\\\depedge[-]{{{}}}{{{}}}{{{}}}\\n\".format(i_index, j_index, \".\")\n",
        "    for i_index, j_index in predicted_edges:\n",
        "        string += f\"\\\\depedge[-,edge style={{red!60!}}, edge below]{{{i_index}}}{{{j_index}}}{{.}}\\n\"\n",
        "    string += \"\\\\end{dependency}\\n\"\n",
        "    print(string)\n",
        "\n",
        "\n",
        "edges = mst_edges(mst)\n",
        "\n",
        "print_tikz(edges, None, sen.split())"
      ]
    },
    {
      "cell_type": "markdown",
      "metadata": {
        "id": "aTTisZaPRw2U"
      },
      "source": [
        "# Captum"
      ]
    },
    {
      "cell_type": "code",
      "execution_count": null,
      "metadata": {
        "scrolled": true,
        "id": "buWHJEwKRw2U",
        "outputId": "d76d92ce-9c5a-462c-ce4f-97723d24f84f"
      },
      "outputs": [
        {
          "name": "stdout",
          "output_type": "stream",
          "text": [
            "tensor([ 12.3867, -14.1301,  -3.2967,  13.4059,  -2.6396])\n"
          ]
        },
        {
          "data": {
            "text/html": [
              "<table width: 100%><div style=\"border-top: 1px solid; margin-top: 5px;             padding-top: 5px; display: inline-block\"><b>Legend: </b><span style=\"display: inline-block; width: 10px; height: 10px;                 border: 1px solid; background-color:                 hsl(0, 75%, 60%)\"></span> Negative  <span style=\"display: inline-block; width: 10px; height: 10px;                 border: 1px solid; background-color:                 hsl(0, 75%, 100%)\"></span> Neutral  <span style=\"display: inline-block; width: 10px; height: 10px;                 border: 1px solid; background-color:                 hsl(120, 75%, 50%)\"></span> Positive  </div><tr><th>True Label</th><th>Predicted Label</th><th>Attribution Label</th><th>Attribution Score</th><th>Word Importance</th><tr><td><text style=\"padding-right:2em\"><b></b></text></td><td><text style=\"padding-right:2em\"><b>dogs (0.00)</b></text></td><td><text style=\"padding-right:2em\"><b></b></text></td><td><text style=\"padding-right:2em\"><b>0.00</b></text></td><td><mark style=\"background-color: hsl(120, 75%, 57%); opacity:1.0;                     line-height:1.75\"><font color=\"black\"> It                    </font></mark><mark style=\"background-color: hsl(0, 75%, 60%); opacity:1.0;                     line-height:1.75\"><font color=\"black\"> is                    </font></mark><mark style=\"background-color: hsl(0, 75%, 91%); opacity:1.0;                     line-height:1.75\"><font color=\"black\"> raining                    </font></mark><mark style=\"background-color: hsl(120, 75%, 53%); opacity:1.0;                     line-height:1.75\"><font color=\"black\"> cats                    </font></mark><mark style=\"background-color: hsl(0, 75%, 93%); opacity:1.0;                     line-height:1.75\"><font color=\"black\"> and                    </font></mark></td><tr><tr><td><text style=\"padding-right:2em\"><b></b></text></td><td><text style=\"padding-right:2em\"><b>dogs (0.00)</b></text></td><td><text style=\"padding-right:2em\"><b></b></text></td><td><text style=\"padding-right:2em\"><b>0.00</b></text></td><td><mark style=\"background-color: hsl(120, 75%, 57%); opacity:1.0;                     line-height:1.75\"><font color=\"black\"> It                    </font></mark><mark style=\"background-color: hsl(0, 75%, 60%); opacity:1.0;                     line-height:1.75\"><font color=\"black\"> is                    </font></mark><mark style=\"background-color: hsl(0, 75%, 91%); opacity:1.0;                     line-height:1.75\"><font color=\"black\"> raining                    </font></mark><mark style=\"background-color: hsl(120, 75%, 53%); opacity:1.0;                     line-height:1.75\"><font color=\"black\"> cats                    </font></mark><mark style=\"background-color: hsl(0, 75%, 93%); opacity:1.0;                     line-height:1.75\"><font color=\"black\"> and                    </font></mark></td><tr><tr><td><text style=\"padding-right:2em\"><b></b></text></td><td><text style=\"padding-right:2em\"><b>dogs (0.00)</b></text></td><td><text style=\"padding-right:2em\"><b></b></text></td><td><text style=\"padding-right:2em\"><b>0.00</b></text></td><td><mark style=\"background-color: hsl(120, 75%, 57%); opacity:1.0;                     line-height:1.75\"><font color=\"black\"> It                    </font></mark><mark style=\"background-color: hsl(0, 75%, 60%); opacity:1.0;                     line-height:1.75\"><font color=\"black\"> is                    </font></mark><mark style=\"background-color: hsl(0, 75%, 91%); opacity:1.0;                     line-height:1.75\"><font color=\"black\"> raining                    </font></mark><mark style=\"background-color: hsl(120, 75%, 53%); opacity:1.0;                     line-height:1.75\"><font color=\"black\"> cats                    </font></mark><mark style=\"background-color: hsl(0, 75%, 93%); opacity:1.0;                     line-height:1.75\"><font color=\"black\"> and                    </font></mark></td><tr><tr><td><text style=\"padding-right:2em\"><b></b></text></td><td><text style=\"padding-right:2em\"><b>dogs (0.00)</b></text></td><td><text style=\"padding-right:2em\"><b></b></text></td><td><text style=\"padding-right:2em\"><b>0.00</b></text></td><td><mark style=\"background-color: hsl(120, 75%, 57%); opacity:1.0;                     line-height:1.75\"><font color=\"black\"> It                    </font></mark><mark style=\"background-color: hsl(0, 75%, 60%); opacity:1.0;                     line-height:1.75\"><font color=\"black\"> is                    </font></mark><mark style=\"background-color: hsl(0, 75%, 91%); opacity:1.0;                     line-height:1.75\"><font color=\"black\"> raining                    </font></mark><mark style=\"background-color: hsl(120, 75%, 53%); opacity:1.0;                     line-height:1.75\"><font color=\"black\"> cats                    </font></mark><mark style=\"background-color: hsl(0, 75%, 93%); opacity:1.0;                     line-height:1.75\"><font color=\"black\"> and                    </font></mark></td><tr><tr><td><text style=\"padding-right:2em\"><b></b></text></td><td><text style=\"padding-right:2em\"><b>dogs (0.00)</b></text></td><td><text style=\"padding-right:2em\"><b></b></text></td><td><text style=\"padding-right:2em\"><b>0.00</b></text></td><td><mark style=\"background-color: hsl(120, 75%, 57%); opacity:1.0;                     line-height:1.75\"><font color=\"black\"> It                    </font></mark><mark style=\"background-color: hsl(0, 75%, 60%); opacity:1.0;                     line-height:1.75\"><font color=\"black\"> is                    </font></mark><mark style=\"background-color: hsl(0, 75%, 91%); opacity:1.0;                     line-height:1.75\"><font color=\"black\"> raining                    </font></mark><mark style=\"background-color: hsl(120, 75%, 53%); opacity:1.0;                     line-height:1.75\"><font color=\"black\"> cats                    </font></mark><mark style=\"background-color: hsl(0, 75%, 93%); opacity:1.0;                     line-height:1.75\"><font color=\"black\"> and                    </font></mark></td><tr></table>"
            ],
            "text/plain": [
              "<IPython.core.display.HTML object>"
            ]
          },
          "metadata": {},
          "output_type": "display_data"
        },
        {
          "data": {
            "text/html": [
              "<table width: 100%><div style=\"border-top: 1px solid; margin-top: 5px;             padding-top: 5px; display: inline-block\"><b>Legend: </b><span style=\"display: inline-block; width: 10px; height: 10px;                 border: 1px solid; background-color:                 hsl(0, 75%, 60%)\"></span> Negative  <span style=\"display: inline-block; width: 10px; height: 10px;                 border: 1px solid; background-color:                 hsl(0, 75%, 100%)\"></span> Neutral  <span style=\"display: inline-block; width: 10px; height: 10px;                 border: 1px solid; background-color:                 hsl(120, 75%, 50%)\"></span> Positive  </div><tr><th>True Label</th><th>Predicted Label</th><th>Attribution Label</th><th>Attribution Score</th><th>Word Importance</th><tr><td><text style=\"padding-right:2em\"><b></b></text></td><td><text style=\"padding-right:2em\"><b>dogs (0.00)</b></text></td><td><text style=\"padding-right:2em\"><b></b></text></td><td><text style=\"padding-right:2em\"><b>0.00</b></text></td><td><mark style=\"background-color: hsl(120, 75%, 57%); opacity:1.0;                     line-height:1.75\"><font color=\"black\"> It                    </font></mark><mark style=\"background-color: hsl(0, 75%, 60%); opacity:1.0;                     line-height:1.75\"><font color=\"black\"> is                    </font></mark><mark style=\"background-color: hsl(0, 75%, 91%); opacity:1.0;                     line-height:1.75\"><font color=\"black\"> raining                    </font></mark><mark style=\"background-color: hsl(120, 75%, 53%); opacity:1.0;                     line-height:1.75\"><font color=\"black\"> cats                    </font></mark><mark style=\"background-color: hsl(0, 75%, 93%); opacity:1.0;                     line-height:1.75\"><font color=\"black\"> and                    </font></mark></td><tr><tr><td><text style=\"padding-right:2em\"><b></b></text></td><td><text style=\"padding-right:2em\"><b>dogs (0.00)</b></text></td><td><text style=\"padding-right:2em\"><b></b></text></td><td><text style=\"padding-right:2em\"><b>0.00</b></text></td><td><mark style=\"background-color: hsl(120, 75%, 57%); opacity:1.0;                     line-height:1.75\"><font color=\"black\"> It                    </font></mark><mark style=\"background-color: hsl(0, 75%, 60%); opacity:1.0;                     line-height:1.75\"><font color=\"black\"> is                    </font></mark><mark style=\"background-color: hsl(0, 75%, 91%); opacity:1.0;                     line-height:1.75\"><font color=\"black\"> raining                    </font></mark><mark style=\"background-color: hsl(120, 75%, 53%); opacity:1.0;                     line-height:1.75\"><font color=\"black\"> cats                    </font></mark><mark style=\"background-color: hsl(0, 75%, 93%); opacity:1.0;                     line-height:1.75\"><font color=\"black\"> and                    </font></mark></td><tr><tr><td><text style=\"padding-right:2em\"><b></b></text></td><td><text style=\"padding-right:2em\"><b>dogs (0.00)</b></text></td><td><text style=\"padding-right:2em\"><b></b></text></td><td><text style=\"padding-right:2em\"><b>0.00</b></text></td><td><mark style=\"background-color: hsl(120, 75%, 57%); opacity:1.0;                     line-height:1.75\"><font color=\"black\"> It                    </font></mark><mark style=\"background-color: hsl(0, 75%, 60%); opacity:1.0;                     line-height:1.75\"><font color=\"black\"> is                    </font></mark><mark style=\"background-color: hsl(0, 75%, 91%); opacity:1.0;                     line-height:1.75\"><font color=\"black\"> raining                    </font></mark><mark style=\"background-color: hsl(120, 75%, 53%); opacity:1.0;                     line-height:1.75\"><font color=\"black\"> cats                    </font></mark><mark style=\"background-color: hsl(0, 75%, 93%); opacity:1.0;                     line-height:1.75\"><font color=\"black\"> and                    </font></mark></td><tr><tr><td><text style=\"padding-right:2em\"><b></b></text></td><td><text style=\"padding-right:2em\"><b>dogs (0.00)</b></text></td><td><text style=\"padding-right:2em\"><b></b></text></td><td><text style=\"padding-right:2em\"><b>0.00</b></text></td><td><mark style=\"background-color: hsl(120, 75%, 57%); opacity:1.0;                     line-height:1.75\"><font color=\"black\"> It                    </font></mark><mark style=\"background-color: hsl(0, 75%, 60%); opacity:1.0;                     line-height:1.75\"><font color=\"black\"> is                    </font></mark><mark style=\"background-color: hsl(0, 75%, 91%); opacity:1.0;                     line-height:1.75\"><font color=\"black\"> raining                    </font></mark><mark style=\"background-color: hsl(120, 75%, 53%); opacity:1.0;                     line-height:1.75\"><font color=\"black\"> cats                    </font></mark><mark style=\"background-color: hsl(0, 75%, 93%); opacity:1.0;                     line-height:1.75\"><font color=\"black\"> and                    </font></mark></td><tr><tr><td><text style=\"padding-right:2em\"><b></b></text></td><td><text style=\"padding-right:2em\"><b>dogs (0.00)</b></text></td><td><text style=\"padding-right:2em\"><b></b></text></td><td><text style=\"padding-right:2em\"><b>0.00</b></text></td><td><mark style=\"background-color: hsl(120, 75%, 57%); opacity:1.0;                     line-height:1.75\"><font color=\"black\"> It                    </font></mark><mark style=\"background-color: hsl(0, 75%, 60%); opacity:1.0;                     line-height:1.75\"><font color=\"black\"> is                    </font></mark><mark style=\"background-color: hsl(0, 75%, 91%); opacity:1.0;                     line-height:1.75\"><font color=\"black\"> raining                    </font></mark><mark style=\"background-color: hsl(120, 75%, 53%); opacity:1.0;                     line-height:1.75\"><font color=\"black\"> cats                    </font></mark><mark style=\"background-color: hsl(0, 75%, 93%); opacity:1.0;                     line-height:1.75\"><font color=\"black\"> and                    </font></mark></td><tr></table>"
            ],
            "text/plain": [
              "<IPython.core.display.HTML object>"
            ]
          },
          "execution_count": 6,
          "metadata": {},
          "output_type": "execute_result"
        }
      ],
      "source": [
        "from transformers import AutoModelForCausalLM, AutoTokenizer\n",
        "from captum.attr import LayerIntegratedGradients, TokenReferenceBase, visualization\n",
        "import torch.nn as nn\n",
        "import torch\n",
        "\n",
        "\n",
        "model = AutoModelForCausalLM.from_pretrained(\"distilgpt2\")\n",
        "tokenizer = AutoTokenizer.from_pretrained(\"distilgpt2\")\n",
        "\n",
        "\n",
        "class NextTokenPredictor(nn.Module):\n",
        "    def __init__(self, model):\n",
        "        super().__init__()\n",
        "\n",
        "        self.model = model\n",
        "\n",
        "    def forward(self, input_ids):\n",
        "#         _, all_hidden_states = self.model(input_ids=input_ids)\n",
        "\n",
        "#         final_hidden_state = all_hidden_states[:, -1, :]\n",
        "#         final_logits = self.model.decoder(final_hidden_state)\n",
        "#         final_probs = torch.log_softmax(final_logits, dim=-1)\n",
        "\n",
        "        logits = model(input_ids=input_ids).logits[:, -1]\n",
        "        probs = torch.log_softmax(logits, dim=-1)\n",
        "\n",
        "        return probs\n",
        "\n",
        "\n",
        "def add_zero_entry(model):\n",
        "    weight = model.transformer.wte.weight.data\n",
        "\n",
        "    if len(tokenizer) == model.transformer.wte.num_embeddings:\n",
        "        model.transformer.wte.weight.data = torch.cat((weight, torch.zeros(1, weight.shape[-1])))\n",
        "        model.transformer.wte.num_embeddings += 1\n",
        "\n",
        "\n",
        "add_zero_entry(model)\n",
        "custom_model = NextTokenPredictor(model)\n",
        "\n",
        "attributor = LayerIntegratedGradients(custom_model, custom_model.model.transformer.wte)\n",
        "\n",
        "sen = \"It is raining cats and\"\n",
        "out = \"dogs\"\n",
        "\n",
        "batch_ids = tokenizer([sen])['input_ids']\n",
        "output_idx = torch.tensor([tokenizer.convert_tokens_to_ids(f\"Ġ{out}\")])\n",
        "\n",
        "token_reference = TokenReferenceBase(reference_token_idx=len(tokenizer))\n",
        "baseline = token_reference.generate_reference(len(batch_ids[0]), device=\"cpu\").unsqueeze(0)\n",
        "\n",
        "\n",
        "ig_attribution = attributor.attribute(\n",
        "    torch.tensor(batch_ids),\n",
        "    baselines=baseline,\n",
        "    target=output_idx.item(),\n",
        "    n_steps=100,\n",
        "    method=\"riemann_trapezoid\",\n",
        ")\n",
        "\n",
        "ig_attribution = ig_attribution.sum(-1).squeeze()\n",
        "\n",
        "print(ig_attribution)\n",
        "\n",
        "vis_records = [\n",
        "    visualization.VisualizationDataRecord(\n",
        "        ig_attribution / max(abs(ig_attribution)),\n",
        "        0,\n",
        "        out,\n",
        "        \"\",\n",
        "        \"\",\n",
        "        0,\n",
        "        sen.split(),\n",
        "        None\n",
        "    )\n",
        "    for idx, attr in enumerate(ig_attribution)\n",
        "]\n",
        "\n",
        "visualization.visualize_text(vis_records)"
      ]
    },
    {
      "cell_type": "code",
      "execution_count": null,
      "metadata": {
        "id": "2ZvPsSohRw2Y",
        "outputId": "055eb8e0-5d5a-44d7-98fd-f63f4006f909"
      },
      "outputs": [
        {
          "data": {
            "text/plain": [
              "(tensor([1.1204e-27, 1.0745e-27, 2.3760e-29,  ..., 3.8551e-29, 1.8706e-28,\n",
              "         1.0000e+00], grad_fn=<SoftmaxBackward>),\n",
              " tensor(1., grad_fn=<SumBackward0>))"
            ]
          },
          "execution_count": 52,
          "metadata": {},
          "output_type": "execute_result"
        }
      ],
      "source": [
        "logits = model(input_ids=torch.tensor(batch_ids)).logits[0,-1,:]\n",
        "# custom_model(input_ids=torch.tensor(batch_ids))\n",
        "\n",
        "torch.softmax(logits, dim=0), torch.exp(logits).sum()"
      ]
    },
    {
      "cell_type": "code",
      "execution_count": null,
      "metadata": {
        "id": "yoWz72X6Rw2Z",
        "outputId": "d1eae1f8-963d-474b-ca49-b3a63e43995c"
      },
      "outputs": [
        {
          "data": {
            "text/plain": [
              "tensor([[-32.8619, -30.7633, -32.5626,  ..., -43.7029, -32.9935,   0.0000],\n",
              "        [-62.3421, -63.0430, -67.7622,  ..., -69.7235, -66.4648,   0.0000],\n",
              "        [-68.8666, -70.9159, -77.1711,  ..., -81.3696, -73.7653,   0.0000],\n",
              "        [-66.0321, -68.8186, -72.7003,  ..., -77.8690, -72.5476,   0.0000],\n",
              "        [-62.0561, -62.0979, -65.9096,  ..., -65.4256, -63.8461,   0.0000]],\n",
              "       grad_fn=<MmBackward>)"
            ]
          },
          "execution_count": 61,
          "metadata": {},
          "output_type": "execute_result"
        }
      ],
      "source": [
        "model(input_ids=torch.tensor(batch_ids)).logits.shape\n",
        "model(inputs_embeds=model.transformer.wte.weight[batch_ids]).logits"
      ]
    },
    {
      "cell_type": "code",
      "execution_count": null,
      "metadata": {
        "id": "LEJQ-rT6Rw2Z",
        "outputId": "99f1a731-30e0-45d6-eec6-244ec2e2d3cf"
      },
      "outputs": [
        {
          "data": {
            "text/plain": [
              "tensor(4.2525e-21, grad_fn=<SumBackward0>)"
            ]
          },
          "execution_count": 72,
          "metadata": {},
          "output_type": "execute_result"
        }
      ],
      "source": [
        "def prediction_model(batch_embedding):\n",
        "    logits = model(inputs_embeds=batch_embedding).logits[:, -1]\n",
        "    probs = torch.log_softmax(logits, dim=-1)\n",
        "\n",
        "    return probs\n",
        "\n",
        "\n",
        "inp = torch.zeros((1,5,768))\n",
        "prediction_model(inp).squeeze().exp()[:-1].sum()"
      ]
    },
    {
      "cell_type": "code",
      "execution_count": null,
      "metadata": {
        "id": "QGNRUxAjRw2a",
        "outputId": "462772c4-c1ed-4fd4-ee22-88ce2b23dd02"
      },
      "outputs": [
        {
          "name": "stdout",
          "output_type": "stream",
          "text": [
            "logit -1.2117385864257812\n",
            "attributions [0.93203324 0.73045576 0.9232333  5.9184027  1.4536085 ]\n",
            "sum 9.957733452320099\n",
            "diff 10.046453475952148\n"
          ]
        }
      ],
      "source": [
        "import torch\n",
        "from transformers import AutoModelForCausalLM, AutoTokenizer\n",
        "\n",
        "\n",
        "#!/usr/bin/env python\n",
        "import functools\n",
        "import operator\n",
        "import torch\n",
        "from torch.autograd import grad\n",
        "import numpy as np\n",
        "from tqdm import *\n",
        "\n",
        "def gather_nd(params, indices):\n",
        "    \"\"\"\n",
        "    Args:\n",
        "        params: Tensor to index\n",
        "        indices: k-dimension tensor of integers.\n",
        "    Returns:\n",
        "        output: 1-dimensional tensor of elements of ``params``, where\n",
        "            output[i] = params[i][indices[i]]\n",
        "\n",
        "            params   indices   output\n",
        "\n",
        "            1 2       1 1       4\n",
        "            3 4       2 0 ----> 5\n",
        "            5 6       0 0       1\n",
        "    \"\"\"\n",
        "    max_value = functools.reduce(operator.mul, list(params.size())) - 1\n",
        "    indices = indices.t().long()\n",
        "    ndim = indices.size(0)\n",
        "    idx = torch.zeros_like(indices[0]).long()\n",
        "    m = 1\n",
        "\n",
        "    for i in range(ndim)[::-1]:\n",
        "        idx += indices[i]*m\n",
        "        m *= params.size(i)\n",
        "\n",
        "    idx[idx < 0] = 0\n",
        "    idx[idx > max_value] = 0\n",
        "    return torch.take(params, idx)\n",
        "\n",
        "class PathExplainerTorch(object):\n",
        "    def __init__(self, model):\n",
        "        self.model = model\n",
        "        return\n",
        "\n",
        "    def _get_ref_tensor(self,baseline,batch_size,num_samples):\n",
        "        number_to_draw = num_samples * batch_size\n",
        "        replace = baseline.shape[0] < number_to_draw\n",
        "        sample_indices = np.random.choice(baseline.shape[0],\n",
        "                                          size=number_to_draw,\n",
        "                                          replace=replace)\n",
        "        ref_tensor = baseline[sample_indices,:]\n",
        "\n",
        "        return ref_tensor\n",
        "\n",
        "    def _get_samples_input(self, input_tensor, baseline,\n",
        "                           num_samples, use_expectation):\n",
        "        '''\n",
        "        calculate interpolation points\n",
        "        Args:\n",
        "            input_tensor: Tensor of shape (batch, ...), where ... indicates\n",
        "                          the input dimensions.\n",
        "            reference_tensor: A tensor of shape (batch, k, ...) where ...\n",
        "                indicates dimensions, and k represents the number of background\n",
        "                reference samples to draw per input in the batch.\n",
        "        Returns:\n",
        "            samples_input: A tensor of shape (batch, k, ...) with the\n",
        "                interpolated points between input and ref.\n",
        "            samples_delta: A tensor of shape (batch, 1, ...) with the\n",
        "                difference between input and reference for each sample\n",
        "        '''\n",
        "        input_dims = list(input_tensor.size())[1:]\n",
        "        num_input_dims = len(input_dims)\n",
        "        batch_size = input_tensor.size()[0]\n",
        "\n",
        "        if use_expectation:\n",
        "            reference_tensor = self._get_ref_tensor(baseline,batch_size,num_samples)\n",
        "            shape = reference_tensor.shape\n",
        "            reference_tensor = reference_tensor.view(\n",
        "                    batch_size,\n",
        "                    num_samples,\n",
        "                    *(shape[1:]))\n",
        "\n",
        "            # Grab a [batch_size, k]-sized interpolation sample\n",
        "            t_tensor = torch.FloatTensor(batch_size, num_samples).uniform_(0,1).to(reference_tensor.device)\n",
        "            shape = [batch_size, num_samples] + [1] * num_input_dims\n",
        "            interp_coef = t_tensor.view(*shape)\n",
        "\n",
        "            # Evaluate the end points\n",
        "            end_point_ref = (1.0 - interp_coef) * reference_tensor\n",
        "\n",
        "            input_expand_mult = input_tensor.unsqueeze(1)\n",
        "            end_point_input = interp_coef * input_expand_mult\n",
        "\n",
        "            # Affine Combine\n",
        "            samples_input = end_point_input + end_point_ref\n",
        "\n",
        "        else:\n",
        "            batch_size = input_tensor.size()[0]\n",
        "            input_expand = input_tensor.unsqueeze(1)\n",
        "            reps = np.ones(len(baseline.shape)).astype(int)\n",
        "            reps[0] = batch_size\n",
        "            reference_tensor = baseline.repeat(list(reps)).unsqueeze(1)\n",
        "#             reference_tensor = torch.as_tensor(sampled_baseline).unsqueeze(1).to(baseline.device)\n",
        "            scaled_inputs = [reference_tensor + (float(i)/(num_samples-1))*(input_expand - reference_tensor) \\\n",
        "                             for i in range(0,num_samples)]\n",
        "            samples_input = torch.cat(scaled_inputs,dim=1)\n",
        "\n",
        "        samples_delta = self._get_samples_delta(input_tensor, reference_tensor)\n",
        "        samples_delta = samples_delta.to(samples_input.device)\n",
        "\n",
        "        return samples_input, samples_delta\n",
        "\n",
        "    def _get_samples_delta(self, input_tensor, reference_tensor):\n",
        "        input_expand_mult = input_tensor.unsqueeze(1)\n",
        "        sd = input_expand_mult - reference_tensor\n",
        "        return sd\n",
        "\n",
        "    def _get_grads(self, samples_input, output_indices=None):\n",
        "\n",
        "        grad_tensor = torch.zeros(samples_input.shape).float().to(samples_input.device)\n",
        "\n",
        "        k_ = samples_input.shape[1]\n",
        "\n",
        "        for i in range(k_):\n",
        "            particular_slice = samples_input[:,i]\n",
        "            batch_output = self.model(particular_slice)\n",
        "            # should check that users pass in sparse labels\n",
        "            # Only look at the user-specified label\n",
        "            if batch_output.size(1) > 1:\n",
        "                sample_indices = torch.arange(0,batch_output.size(0)).to(samples_input.device)\n",
        "                indices_tensor = torch.cat([\n",
        "                        sample_indices.unsqueeze(1),\n",
        "                        output_indices.unsqueeze(1)], dim=1)\n",
        "                batch_output = gather_nd(batch_output, indices_tensor)\n",
        "\n",
        "            model_grads = grad(\n",
        "                    outputs=batch_output,\n",
        "                    inputs=particular_slice,\n",
        "                    grad_outputs=torch.ones_like(batch_output).to(samples_input.device),\n",
        "                    create_graph=True)\n",
        "            grad_tensor[:,i,:] = model_grads[0]\n",
        "        return grad_tensor\n",
        "\n",
        "    def attributions(self, input_tensor, baseline,\n",
        "                     num_samples = 50, use_expectation=True,\n",
        "                     output_indices=None):\n",
        "        \"\"\"\n",
        "        Calculate either Expected or Integrated Gradients approximation of\n",
        "        Aumann-Shapley values for the sample ``input_tensor``.\n",
        "\n",
        "        Args:\n",
        "            model (torch.nn.Module): Pytorch neural network model for which the\n",
        "                output should be explained.\n",
        "            input_tensor (torch.Tensor): Pytorch tensor representing the input\n",
        "                to be explained.\n",
        "            baseline (torch.Tensor): Pytorch tensor representing the baseline.\n",
        "                If use_expectation is true, then baseline should be shape\n",
        "                (num_refs, ...) where ... indicates the dimensionality\n",
        "                of the input. Otherwise, baseline should be shape (1, ...).\n",
        "            output_indices (optional, default=None): For multi-class prediction\n",
        "        \"\"\"\n",
        "        equal_dims = baseline.shape[1:] == input_tensor.shape[1:]\n",
        "        almost_equal_dims = baseline.shape == input_tensor.shape[1:]\n",
        "\n",
        "        dev = input_tensor.device\n",
        "        baseline = baseline.to(dev)\n",
        "\n",
        "        input_tensor.requires_grad_ = True\n",
        "\n",
        "        if use_expectation and not equal_dims:\n",
        "            raise ValueError('baseline should be shape (num_refs, ...) \\\n",
        "                              where ... indicates the dimensionality   \\\n",
        "                              of the input')\n",
        "\n",
        "        if not use_expectation and baseline.shape[0] != 1:\n",
        "            if almost_equal_dims:\n",
        "                baseline = baseline.unsqueeze(0)\n",
        "            else:\n",
        "                raise ValueError('baseline should be shape (...)           \\\n",
        "                                  where ... indicates the dimensionality   \\\n",
        "                                  of the input')\n",
        "\n",
        "        samples_input, samples_delta = self._get_samples_input(input_tensor, baseline,\n",
        "                                                               num_samples, use_expectation)\n",
        "        grad_tensor = self._get_grads(samples_input, output_indices)\n",
        "        mult_grads = samples_delta * grad_tensor\n",
        "        attributions = mult_grads.mean(1)\n",
        "\n",
        "        return attributions\n",
        "\n",
        "\n",
        "model = AutoModelForCausalLM.from_pretrained(\"distilgpt2\")\n",
        "tokenizer = AutoTokenizer.from_pretrained(\"distilgpt2\")\n",
        "\n",
        "\n",
        "def embedding_model(batch_ids):\n",
        "    batch_embedding = model.transformer.wte.weight[[batch_ids]]\n",
        "    return batch_embedding\n",
        "\n",
        "\n",
        "def prediction_model(batch_embedding):\n",
        "    logits = model(inputs_embeds=batch_embedding).logits[:, -1]\n",
        "    probs = torch.log_softmax(logits, dim=-1)\n",
        "\n",
        "    return probs\n",
        "\n",
        "\n",
        "sen = \"It is raining cats and\"\n",
        "out = \"dogs\"\n",
        "\n",
        "batch_input = tokenizer([sen])\n",
        "batch_ids = batch_input['input_ids']\n",
        "batch_embedding = embedding_model(batch_ids)\n",
        "\n",
        "baseline_embedding = torch.zeros_like(batch_embedding)\n",
        "\n",
        "output_idx = torch.tensor([tokenizer.convert_tokens_to_ids(f\"Ġ{out}\")])\n",
        "\n",
        "explainer = PathExplainerTorch(prediction_model)\n",
        "\n",
        "attributions = explainer.attributions(\n",
        "    batch_embedding,\n",
        "    baseline_embedding,\n",
        "    output_indices=output_idx,\n",
        "    num_samples=100,\n",
        "    use_expectation=False,\n",
        ")\n",
        "\n",
        "sum_attr = attributions.squeeze().detach().numpy().sum(-1)  # Sum over embedding dim\n",
        "\n",
        "logit = prediction_model(batch_embedding)[0, output_idx].item()\n",
        "baseline_output = prediction_model(baseline_embedding)[0, output_idx].item()\n",
        "\n",
        "print(\"logit\", logit)\n",
        "print(\"attributions\", sum_attr)\n",
        "print(\"sum\", sum(sum_attr))\n",
        "print(\"diff\", logit - baseline_output)\n"
      ]
    }
  ],
  "metadata": {
    "kernelspec": {
      "display_name": "Python 3",
      "language": "python",
      "name": "python3"
    },
    "language_info": {
      "codemirror_mode": {
        "name": "ipython",
        "version": 3
      },
      "file_extension": ".py",
      "mimetype": "text/x-python",
      "name": "python",
      "nbconvert_exporter": "python",
      "pygments_lexer": "ipython3",
      "version": "3.8.5"
    },
    "colab": {
      "provenance": [],
      "include_colab_link": true
    }
  },
  "nbformat": 4,
  "nbformat_minor": 0
}